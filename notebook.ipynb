{
 "cells": [
  {
   "cell_type": "code",
   "execution_count": null,
   "id": "2de2b8da",
   "metadata": {},
   "outputs": [],
   "source": [
    "%load_ext autoreload\n",
    "%autoreload 2"
   ]
  },
  {
   "cell_type": "code",
   "execution_count": null,
   "id": "f7dbff50",
   "metadata": {},
   "outputs": [],
   "source": [
    "from backprop.element import Element\n",
    "from backprop.activations import sigmoid"
   ]
  },
  {
   "cell_type": "code",
   "execution_count": 4,
   "id": "67e2d299",
   "metadata": {},
   "outputs": [],
   "source": [
    "import numpy as np"
   ]
  },
  {
   "cell_type": "code",
   "execution_count": 5,
   "id": "7b0c54f7",
   "metadata": {},
   "outputs": [
    {
     "data": {
      "text/plain": [
       "Element(value=[[32.]], grad=[[0.]], op=@)"
      ]
     },
     "execution_count": 5,
     "metadata": {},
     "output_type": "execute_result"
    }
   ],
   "source": [
    "p = Element([1., 2., 3.,]).T\n",
    "q = Element([4., 5., 6.,]).T\n",
    "\n",
    "p.T @ q"
   ]
  },
  {
   "cell_type": "code",
   "execution_count": 7,
   "id": "d705123d",
   "metadata": {},
   "outputs": [
    {
     "name": "stdout",
     "output_type": "stream",
     "text": [
      "x:  Element(value=[[1. 2. 3. 4.]], grad=[[1.5 1.5 1.5 1.5]], op=None)\n",
      "y:  Element(value=[[6. 6. 6. 6.]], grad=[[0.25 0.5  0.75 1.  ]], op=None)\n",
      "z:  Element(value=[[ 6. 12. 18. 24.]], grad=[[0.25 0.25 0.25 0.25]], op=x)\n",
      "a:  Element(value=[[0.25 0.25 0.25 0.25]], grad=[[ 6. 12. 18. 24.]], op=None)\n",
      "b:  Element(value=[[15.]], grad=[[1.]], op=@)\n"
     ]
    }
   ],
   "source": [
    "x = Element([1.0, 2.0, 3.0, 4.0]).T\n",
    "y = Element([6.0, 6., 6., 6.]).T\n",
    "\n",
    "z = (x * y)\n",
    "a = Element([0.25, 0.25, 0.25, 0.25]).T\n",
    "b = a.T @ z\n",
    "b.backward()\n",
    "\n",
    "print('x: ', x.T)\n",
    "print('y: ', y.T)\n",
    "print('z: ', z.T)\n",
    "\n",
    "print('a: ', a.T)\n",
    "print('b: ', b.T)"
   ]
  },
  {
   "cell_type": "code",
   "execution_count": 8,
   "id": "7ee32881",
   "metadata": {},
   "outputs": [
    {
     "name": "stdout",
     "output_type": "stream",
     "text": [
      "t:  Element(value=[[0.50005184]], grad=[[1.]], op=σ)\n",
      "s:  Element(value=[[0.00020736]], grad=[[0.25]], op=x)\n",
      "r:  Element(value=[[0.0144]], grad=[[0.0072]], op=x)\n",
      "q:  Element(value=[[0.12]], grad=[[0.001728]], op=None)\n"
     ]
    }
   ],
   "source": [
    "q = Element(0.12)\n",
    "r = q * q\n",
    "s = r * r\n",
    "t = sigmoid(s)\n",
    "\n",
    "t.backward()\n",
    "print('t: ', t)\n",
    "print('s: ', s)\n",
    "print('r: ', r)\n",
    "print('q: ', q)"
   ]
  },
  {
   "cell_type": "code",
   "execution_count": 9,
   "id": "0b798adf",
   "metadata": {},
   "outputs": [
    {
     "name": "stdout",
     "output_type": "stream",
     "text": [
      "a:  Element(value=[[0.99908895]], grad=[[1.]], op=σ)\n",
      "w:  Element(value=[[1. 1. 1.]], grad=[[-0.00091022 -0.00091022 -0.00091022]], op=None)\n",
      "x:  Element(value=[[-1. -1. -1.]], grad=[[0.00091022 0.00091022 0.00091022]], op=None)\n",
      "b:  Element(value=[[10.]], grad=[[0.00091022]], op=None)\n"
     ]
    }
   ],
   "source": [
    "w = Element([1, 1, 1]).T\n",
    "x = Element([-1, -1, -1]).T\n",
    "b = Element(10)\n",
    "\n",
    "a = sigmoid(w.T @ x + b)\n",
    "\n",
    "a.backward()\n",
    "\n",
    "print('a: ', a.T)\n",
    "print('w: ', w.T)\n",
    "print('x: ', x.T)\n",
    "print('b: ', b.T)"
   ]
  },
  {
   "cell_type": "code",
   "execution_count": 12,
   "id": "df878b77",
   "metadata": {},
   "outputs": [
    {
     "ename": "ValueError",
     "evalue": "non-broadcastable output operand with shape (3,1) doesn't match the broadcast shape (3,3)",
     "output_type": "error",
     "traceback": [
      "\u001b[0;31m---------------------------------------------------------------------------\u001b[0m",
      "\u001b[0;31mValueError\u001b[0m                                Traceback (most recent call last)",
      "Cell \u001b[0;32mIn[12], line 13\u001b[0m\n\u001b[1;32m     11\u001b[0m mu \u001b[38;5;241m=\u001b[39m Element([\u001b[38;5;241m0.33\u001b[39m, \u001b[38;5;241m.33\u001b[39m, \u001b[38;5;241m.34\u001b[39m])\u001b[38;5;241m.\u001b[39mT\n\u001b[1;32m     12\u001b[0m L \u001b[38;5;241m=\u001b[39m z\u001b[38;5;241m.\u001b[39mT \u001b[38;5;241m@\u001b[39m mu\n\u001b[0;32m---> 13\u001b[0m \u001b[43mL\u001b[49m\u001b[38;5;241;43m.\u001b[39;49m\u001b[43mbackward\u001b[49m\u001b[43m(\u001b[49m\u001b[43m)\u001b[49m\n\u001b[1;32m     15\u001b[0m \u001b[38;5;28mprint\u001b[39m(\u001b[38;5;124m'\u001b[39m\u001b[38;5;124mz: \u001b[39m\u001b[38;5;124m'\u001b[39m, z\u001b[38;5;241m.\u001b[39mT)\n\u001b[1;32m     16\u001b[0m \u001b[38;5;28mprint\u001b[39m(\u001b[38;5;124m'\u001b[39m\u001b[38;5;124mw: \u001b[39m\u001b[38;5;124m'\u001b[39m, W)\n",
      "File \u001b[0;32m~/Documents/python/backprop/src/element.py:104\u001b[0m, in \u001b[0;36mElement.backward\u001b[0;34m(self)\u001b[0m\n\u001b[1;32m    101\u001b[0m \u001b[38;5;28mself\u001b[39m\u001b[38;5;241m.\u001b[39m_traverse(node_order)\n\u001b[1;32m    103\u001b[0m \u001b[38;5;28;01mfor\u001b[39;00m node \u001b[38;5;129;01min\u001b[39;00m \u001b[38;5;28mreversed\u001b[39m(node_order):\n\u001b[0;32m--> 104\u001b[0m     \u001b[43mnode\u001b[49m\u001b[38;5;241;43m.\u001b[39;49m\u001b[43m_grad_fn\u001b[49m\u001b[43m(\u001b[49m\u001b[43m)\u001b[49m\n",
      "File \u001b[0;32m~/Documents/python/backprop/src/activations.py:10\u001b[0m, in \u001b[0;36mSigmoidResult._grad_fn\u001b[0;34m(self)\u001b[0m\n\u001b[1;32m      9\u001b[0m \u001b[38;5;28;01mdef\u001b[39;00m\u001b[38;5;250m \u001b[39m\u001b[38;5;21m_grad_fn\u001b[39m(\u001b[38;5;28mself\u001b[39m):\n\u001b[0;32m---> 10\u001b[0m     \u001b[38;5;28mself\u001b[39m\u001b[38;5;241m.\u001b[39m_left\u001b[38;5;241m.\u001b[39m_grad \u001b[38;5;241m+\u001b[39m\u001b[38;5;241m=\u001b[39m (\u001b[38;5;28mself\u001b[39m\u001b[38;5;241m.\u001b[39m_value \u001b[38;5;241m*\u001b[39m (\u001b[38;5;241m1.0\u001b[39m \u001b[38;5;241m-\u001b[39m \u001b[38;5;28mself\u001b[39m\u001b[38;5;241m.\u001b[39m_value)) \u001b[38;5;241m*\u001b[39m \u001b[38;5;28mself\u001b[39m\u001b[38;5;241m.\u001b[39m_grad\n",
      "\u001b[0;31mValueError\u001b[0m: non-broadcastable output operand with shape (3,1) doesn't match the broadcast shape (3,3)"
     ]
    }
   ],
   "source": [
    "W = Element(\n",
    "    [\n",
    "        [1, 1, 1],\n",
    "        [1, 1, 1],\n",
    "        [1, 1, 1]\n",
    "    ]).T\n",
    "x = Element([-1, -1, -1]).T\n",
    "b = Element([4., 5., 6.,]).T\n",
    "\n",
    "z = sigmoid(W.T @ x + b)\n",
    "mu = Element([0.33, .33, .34]).T\n",
    "L = z.T @ mu\n",
    "L.backward()\n",
    "\n",
    "print('z: ', z.T)\n",
    "print('w: ', W)\n",
    "print('x: ', x.T)\n",
    "print('b: ', b.T)"
   ]
  },
  {
   "cell_type": "code",
   "execution_count": null,
   "id": "4b099d58",
   "metadata": {},
   "outputs": [],
   "source": []
  }
 ],
 "metadata": {
  "kernelspec": {
   "display_name": "backprop",
   "language": "python",
   "name": "python3"
  },
  "language_info": {
   "codemirror_mode": {
    "name": "ipython",
    "version": 3
   },
   "file_extension": ".py",
   "mimetype": "text/x-python",
   "name": "python",
   "nbconvert_exporter": "python",
   "pygments_lexer": "ipython3",
   "version": "3.10.18"
  }
 },
 "nbformat": 4,
 "nbformat_minor": 5
}

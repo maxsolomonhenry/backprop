{
 "cells": [
  {
   "cell_type": "code",
   "execution_count": 138,
   "id": "2de2b8da",
   "metadata": {},
   "outputs": [
    {
     "name": "stdout",
     "output_type": "stream",
     "text": [
      "The autoreload extension is already loaded. To reload it, use:\n",
      "  %reload_ext autoreload\n"
     ]
    }
   ],
   "source": [
    "%load_ext autoreload\n",
    "%autoreload 2"
   ]
  },
  {
   "cell_type": "code",
   "execution_count": 139,
   "id": "f7dbff50",
   "metadata": {},
   "outputs": [],
   "source": [
    "from backprop.element import Element\n",
    "from backprop.activations import sigmoid"
   ]
  },
  {
   "cell_type": "code",
   "execution_count": 140,
   "id": "67e2d299",
   "metadata": {},
   "outputs": [],
   "source": [
    "import numpy as np"
   ]
  },
  {
   "cell_type": "code",
   "execution_count": 141,
   "id": "7b0c54f7",
   "metadata": {},
   "outputs": [
    {
     "data": {
      "text/plain": [
       "Element(value=[[32.]], grad=[[0.]], op=@)"
      ]
     },
     "execution_count": 141,
     "metadata": {},
     "output_type": "execute_result"
    }
   ],
   "source": [
    "# p = np.array([1., 2., 3.,])\n",
    "# q = np.array([4., 5., 6.,])\n",
    "\n",
    "p = Element([1., 2., 3.,]).T\n",
    "q = Element([4., 5., 6.,]).T\n",
    "\n",
    "p.T @ q"
   ]
  },
  {
   "cell_type": "code",
   "execution_count": 142,
   "id": "d705123d",
   "metadata": {},
   "outputs": [
    {
     "name": "stdout",
     "output_type": "stream",
     "text": [
      "x:  Element(value=[[1.]\n",
      " [2.]\n",
      " [3.]\n",
      " [4.]], grad=[[1.5]\n",
      " [1.5]\n",
      " [1.5]\n",
      " [1.5]], op=None)\n",
      "y:  Element(value=[[6.]\n",
      " [6.]\n",
      " [6.]\n",
      " [6.]], grad=[[0.25]\n",
      " [0.5 ]\n",
      " [0.75]\n",
      " [1.  ]], op=None)\n",
      "z:  Element(value=[[ 6.]\n",
      " [12.]\n",
      " [18.]\n",
      " [24.]], grad=[[0.25]\n",
      " [0.25]\n",
      " [0.25]\n",
      " [0.25]], op=x)\n",
      "a:  Element(value=[[0.25]\n",
      " [0.25]\n",
      " [0.25]\n",
      " [0.25]], grad=[[0.]\n",
      " [0.]\n",
      " [0.]\n",
      " [0.]], op=None)\n",
      "b:  Element(value=[[15.]], grad=[[1.]], op=@)\n"
     ]
    }
   ],
   "source": [
    "x = Element([1.0, 2.0, 3.0, 4.0]).T\n",
    "y = Element([6.0, 6., 6., 6.]).T\n",
    "\n",
    "z = (x * y)\n",
    "a = Element([0.25, 0.25, 0.25, 0.25]).T\n",
    "b = a.T @ z\n",
    "b.backward()\n",
    "\n",
    "print('x: ', x)\n",
    "print('y: ', y)\n",
    "print('z: ', z)\n",
    "\n",
    "print('a: ', a)\n",
    "print('b: ', b)"
   ]
  },
  {
   "cell_type": "code",
   "execution_count": 143,
   "id": "7ee32881",
   "metadata": {},
   "outputs": [
    {
     "name": "stdout",
     "output_type": "stream",
     "text": [
      "t:  Element(value=[[0.50005184]], grad=[[1.]], op=σ)\n",
      "s:  Element(value=[[0.00020736]], grad=[[0.25]], op=x)\n",
      "r:  Element(value=[[0.0144]], grad=[[0.0072]], op=x)\n",
      "q:  Element(value=[[0.12]], grad=[[0.001728]], op=None)\n"
     ]
    }
   ],
   "source": [
    "q = Element(0.12)\n",
    "r = q * q\n",
    "s = r * r\n",
    "t = sigmoid(s)\n",
    "\n",
    "t.backward()\n",
    "print('t: ', t)\n",
    "print('s: ', s)\n",
    "print('r: ', r)\n",
    "print('q: ', q)"
   ]
  },
  {
   "cell_type": "code",
   "execution_count": 150,
   "id": "0b798adf",
   "metadata": {},
   "outputs": [
    {
     "name": "stdout",
     "output_type": "stream",
     "text": [
      "a:  Element(value=[[2.78946809e-10]], grad=[[0.]], op=None)\n",
      "w:  Element(value=[[1. 2. 3.]], grad=[[0. 0. 0.]], op=None)\n",
      "x:  Element(value=[[-2. -3. -4.]], grad=[[0. 0. 0.]], op=None)\n",
      "b:  Element(value=[[-2.]], grad=[[0.]], op=None)\n"
     ]
    }
   ],
   "source": [
    "w = Element([1, 2, 3]).T\n",
    "x = Element([-2, -3, -4]).T\n",
    "b = Element(-2)\n",
    "\n",
    "a = sigmoid(w.T @ x + b)\n",
    "\n",
    "a.backward()\n",
    "\n",
    "print('a: ', a.T)\n",
    "print('w: ', w.T)\n",
    "print('x: ', x.T)\n",
    "print('b: ', b.T)"
   ]
  },
  {
   "cell_type": "code",
   "execution_count": null,
   "id": "df878b77",
   "metadata": {},
   "outputs": [],
   "source": []
  }
 ],
 "metadata": {
  "kernelspec": {
   "display_name": "backprop",
   "language": "python",
   "name": "python3"
  },
  "language_info": {
   "codemirror_mode": {
    "name": "ipython",
    "version": 3
   },
   "file_extension": ".py",
   "mimetype": "text/x-python",
   "name": "python",
   "nbconvert_exporter": "python",
   "pygments_lexer": "ipython3",
   "version": "3.10.18"
  }
 },
 "nbformat": 4,
 "nbformat_minor": 5
}

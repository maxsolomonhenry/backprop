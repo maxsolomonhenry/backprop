{
 "cells": [
  {
   "cell_type": "code",
   "execution_count": null,
   "id": "2de2b8da",
   "metadata": {},
   "outputs": [],
   "source": [
    "%load_ext autoreload\n",
    "%autoreload 2"
   ]
  },
  {
   "cell_type": "code",
   "execution_count": 25,
   "id": "f7dbff50",
   "metadata": {},
   "outputs": [],
   "source": [
    "from backprop.element import Element\n",
    "from backprop.activations import sigmoid"
   ]
  },
  {
   "cell_type": "code",
   "execution_count": 26,
   "id": "7ee32881",
   "metadata": {},
   "outputs": [
    {
     "name": "stdout",
     "output_type": "stream",
     "text": [
      "t:  Element(value=0.5000518399998143, grad=1, op=σ)\n",
      "s:  Element(value=0.00020736, grad=0.2499999973126144, op=x)\n",
      "r:  Element(value=0.0144, grad=0.0071999999226032944, op=x)\n",
      "q:  Element(value=0.12, grad=0.0017279999814247906, op=None)\n"
     ]
    }
   ],
   "source": [
    "q = Element(0.12 )\n",
    "r = q * q\n",
    "s = r * r\n",
    "t = sigmoid(s)\n",
    "\n",
    "t.backward()\n",
    "print('t: ', t)\n",
    "print('s: ', s)\n",
    "print('r: ', r)\n",
    "print('q: ', q)"
   ]
  },
  {
   "cell_type": "code",
   "execution_count": 27,
   "id": "0b798adf",
   "metadata": {},
   "outputs": [
    {
     "name": "stdout",
     "output_type": "stream",
     "text": [
      "a:  Element(value=0.04742587317756678, grad=1, op=σ)\n",
      "w:  Element(value=1, grad=-0.09035331946182427, op=None)\n",
      "x:  Element(value=-2, grad=0.04517665973091214, op=None)\n",
      "b:  Element(value=-1, grad=0.04517665973091214, op=None)\n"
     ]
    }
   ],
   "source": [
    "w = Element(1)\n",
    "x = Element(-2)\n",
    "b = Element(-1)\n",
    "\n",
    "a = sigmoid(w * x + b)\n",
    "\n",
    "a.backward()\n",
    "\n",
    "print('a: ', a)\n",
    "print('w: ', w)\n",
    "print('x: ', x)\n",
    "print('b: ', b)"
   ]
  }
 ],
 "metadata": {
  "kernelspec": {
   "display_name": "backprop",
   "language": "python",
   "name": "python3"
  },
  "language_info": {
   "codemirror_mode": {
    "name": "ipython",
    "version": 3
   },
   "file_extension": ".py",
   "mimetype": "text/x-python",
   "name": "python",
   "nbconvert_exporter": "python",
   "pygments_lexer": "ipython3",
   "version": "3.10.18"
  }
 },
 "nbformat": 4,
 "nbformat_minor": 5
}

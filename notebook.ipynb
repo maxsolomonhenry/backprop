{
 "cells": [
  {
   "cell_type": "code",
   "execution_count": 2,
   "id": "2de2b8da",
   "metadata": {},
   "outputs": [],
   "source": [
    "%load_ext autoreload\n",
    "%autoreload 2"
   ]
  },
  {
   "cell_type": "code",
   "execution_count": 3,
   "id": "f7dbff50",
   "metadata": {},
   "outputs": [],
   "source": [
    "from backprop.element import Element\n",
    "from backprop.activations import sigmoid\n",
    "from backprop.functions import log"
   ]
  },
  {
   "cell_type": "code",
   "execution_count": 4,
   "id": "67e2d299",
   "metadata": {},
   "outputs": [],
   "source": [
    "import numpy as np"
   ]
  },
  {
   "cell_type": "code",
   "execution_count": 5,
   "id": "7b0c54f7",
   "metadata": {},
   "outputs": [
    {
     "data": {
      "text/plain": [
       "Element(value=[[32.]], grad=[[0.]], op=@)"
      ]
     },
     "execution_count": 5,
     "metadata": {},
     "output_type": "execute_result"
    }
   ],
   "source": [
    "p = Element([1., 2., 3.,]).T\n",
    "q = Element([4., 5., 6.,]).T\n",
    "\n",
    "p.T @ q"
   ]
  },
  {
   "cell_type": "code",
   "execution_count": 7,
   "id": "724d44eb",
   "metadata": {},
   "outputs": [
    {
     "data": {
      "text/plain": [
       "Element(value=[[1.         2.         1.09861229 1.38629436]], grad=[[0. 0. 0. 0.]], op=ln)"
      ]
     },
     "execution_count": 7,
     "metadata": {},
     "output_type": "execute_result"
    }
   ],
   "source": [
    "q = Element([np.exp(1.0), np.exp(2.0), 3.0, 4.0])\n",
    "\n",
    "log(q)"
   ]
  },
  {
   "cell_type": "code",
   "execution_count": 5,
   "id": "d705123d",
   "metadata": {},
   "outputs": [
    {
     "name": "stdout",
     "output_type": "stream",
     "text": [
      "x:  Element(value=[[1. 2. 3. 4.]], grad=[[0. 0. 0. 0.]], op=T)\n",
      "y:  Element(value=[[6. 6. 6. 6.]], grad=[[0. 0. 0. 0.]], op=T)\n",
      "z:  Element(value=[[ 6. 12. 18. 24.]], grad=[[0. 0. 0. 0.]], op=T)\n",
      "a:  Element(value=[[0.25 0.25 0.25 0.25]], grad=[[0. 0. 0. 0.]], op=T)\n",
      "b:  Element(value=[[15.]], grad=[[0.]], op=T)\n"
     ]
    }
   ],
   "source": [
    "x = Element([1.0, 2.0, 3.0, 4.0]).T\n",
    "y = Element([6.0, 6., 6., 6.]).T\n",
    "\n",
    "z = (x * y)\n",
    "a = Element([0.25, 0.25, 0.25, 0.25]).T\n",
    "b = a.T @ z\n",
    "b.backward()\n",
    "\n",
    "print('x: ', x.T)\n",
    "print('y: ', y.T)\n",
    "print('z: ', z.T)\n",
    "\n",
    "print('a: ', a.T)\n",
    "print('b: ', b.T)"
   ]
  },
  {
   "cell_type": "code",
   "execution_count": 6,
   "id": "7ee32881",
   "metadata": {},
   "outputs": [
    {
     "name": "stdout",
     "output_type": "stream",
     "text": [
      "t:  Element(value=[[0.50005184]], grad=[[1.]], op=σ)\n",
      "s:  Element(value=[[0.00020736]], grad=[[0.25]], op=x)\n",
      "r:  Element(value=[[0.0144]], grad=[[0.0072]], op=x)\n",
      "q:  Element(value=[[0.12]], grad=[[0.001728]], op=None)\n"
     ]
    }
   ],
   "source": [
    "q = Element(0.12)\n",
    "r = q * q\n",
    "s = r * r\n",
    "t = sigmoid(s)\n",
    "\n",
    "t.backward()\n",
    "print('t: ', t)\n",
    "print('s: ', s)\n",
    "print('r: ', r)\n",
    "print('q: ', q)"
   ]
  },
  {
   "cell_type": "code",
   "execution_count": 7,
   "id": "3e40b412",
   "metadata": {},
   "outputs": [
    {
     "name": "stdout",
     "output_type": "stream",
     "text": [
      "y:  Element(value=[[30.]], grad=[[1.]], op=@)\n",
      "x:  Element(value=[[1.]\n",
      " [2.]\n",
      " [3.]\n",
      " [4.]], grad=[[2.]\n",
      " [4.]\n",
      " [6.]\n",
      " [8.]], op=T)\n"
     ]
    }
   ],
   "source": [
    "x = Element([1., 2., 3., 4.,]).T\n",
    "\n",
    "y = x.T @ x\n",
    "\n",
    "y.backward()\n",
    "\n",
    "print('y: ', y)\n",
    "print('x: ', x)"
   ]
  },
  {
   "cell_type": "code",
   "execution_count": 8,
   "id": "0b798adf",
   "metadata": {},
   "outputs": [
    {
     "name": "stdout",
     "output_type": "stream",
     "text": [
      "a:  Element(value=[[0.99908895]], grad=[[0.]], op=T)\n",
      "w:  Element(value=[[1. 1. 1.]], grad=[[0. 0. 0.]], op=T)\n",
      "x:  Element(value=[[-1. -1. -1.]], grad=[[0. 0. 0.]], op=T)\n",
      "b:  Element(value=[[10.]], grad=[[0.]], op=T)\n"
     ]
    }
   ],
   "source": [
    "w = Element([1, 1, 1]).T\n",
    "x = Element([-1, -1, -1]).T\n",
    "b = Element(10)\n",
    "\n",
    "a = sigmoid(w.T @ x + b)\n",
    "\n",
    "a.backward()\n",
    "\n",
    "print('a: ', a.T)\n",
    "print('w: ', w.T)\n",
    "print('x: ', x.T)\n",
    "print('b: ', b.T)"
   ]
  },
  {
   "cell_type": "code",
   "execution_count": 10,
   "id": "df878b77",
   "metadata": {},
   "outputs": [
    {
     "name": "stdout",
     "output_type": "stream",
     "text": [
      "z:  Element(value=[[0.73105858]\n",
      " [0.88079708]\n",
      " [0.95257413]], grad=[[0.33]\n",
      " [0.33]\n",
      " [0.34]], op=σ)\n",
      "w:  Element(value=[[1. 1. 1.]\n",
      " [1. 1. 1.]\n",
      " [1. 1. 1.]], grad=[[-0.06488194 -0.03464788 -0.01536006]\n",
      " [-0.06488194 -0.03464788 -0.01536006]\n",
      " [-0.06488194 -0.03464788 -0.01536006]], op=None)\n",
      "x:  Element(value=[[-1.]\n",
      " [-1.]\n",
      " [-1.]], grad=[[0.11488989]\n",
      " [0.11488989]\n",
      " [0.11488989]], op=T)\n",
      "b:  Element(value=[[4.]\n",
      " [5.]\n",
      " [6.]], grad=[[0.06488194]\n",
      " [0.03464788]\n",
      " [0.01536006]], op=T)\n"
     ]
    }
   ],
   "source": [
    "W = Element(\n",
    "    [\n",
    "        [1, 1, 1],\n",
    "        [1, 1, 1],\n",
    "        [1, 1, 1]\n",
    "    ])\n",
    "x = Element([-1, -1, -1]).T\n",
    "b = Element([4., 5., 6.,]).T\n",
    "\n",
    "z = sigmoid(W.T @ x + b)\n",
    "mu = Element([0.33, .33, .34]).T\n",
    "L = z.T @ mu\n",
    "L.backward()\n",
    "\n",
    "print('z: ', z)\n",
    "print('w: ', W)\n",
    "print('x: ', x)\n",
    "print('b: ', b)"
   ]
  },
  {
   "cell_type": "code",
   "execution_count": 21,
   "id": "f94c0408",
   "metadata": {},
   "outputs": [
    {
     "name": "stdout",
     "output_type": "stream",
     "text": [
      "W:  Element(value=[[1. 0. 0.]\n",
      " [0. 1. 0.]\n",
      " [0. 0. 1.]], grad=[[60. 75. 90.]\n",
      " [60. 75. 90.]\n",
      " [60. 75. 90.]], op=None)\n",
      "X:  Element(value=[[1. 1. 1.]\n",
      " [1. 1. 1.]\n",
      " [1. 1. 1.]], grad=[[16. 20. 24.]\n",
      " [20. 25. 30.]\n",
      " [24. 30. 36.]], op=None)\n"
     ]
    }
   ],
   "source": [
    "b = Element([4., 5., 6.,]).T\n",
    "\n",
    "W = Element(\n",
    "    [\n",
    "        [1, 0, 0],\n",
    "        [0, 1, 0],\n",
    "        [0, 0, 1]\n",
    "    ])\n",
    "\n",
    "X = Element(\n",
    "    [\n",
    "        [1, 1, 1],\n",
    "        [1, 1, 1],\n",
    "        [1, 1, 1]\n",
    "    ])\n",
    "\n",
    "((W.T @ X @ b).T @ b).backward()\n",
    "\n",
    "print('W: ', W)\n",
    "print('X: ', X)\n"
   ]
  }
 ],
 "metadata": {
  "kernelspec": {
   "display_name": "backprop",
   "language": "python",
   "name": "python3"
  },
  "language_info": {
   "codemirror_mode": {
    "name": "ipython",
    "version": 3
   },
   "file_extension": ".py",
   "mimetype": "text/x-python",
   "name": "python",
   "nbconvert_exporter": "python",
   "pygments_lexer": "ipython3",
   "version": "3.10.18"
  }
 },
 "nbformat": 4,
 "nbformat_minor": 5
}

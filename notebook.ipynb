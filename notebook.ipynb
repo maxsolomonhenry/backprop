{
 "cells": [
  {
   "cell_type": "code",
   "execution_count": null,
   "id": "f7dbff50",
   "metadata": {},
   "outputs": [],
   "source": [
    "from src.element import Element"
   ]
  },
  {
   "cell_type": "code",
   "execution_count": 5,
   "id": "7ee32881",
   "metadata": {},
   "outputs": [
    {
     "name": "stdout",
     "output_type": "stream",
     "text": [
      "Element(value=2, grad=48)\n"
     ]
    }
   ],
   "source": [
    "x = Element(2)\n",
    "y = x * x\n",
    "z = y * y\n",
    "\n",
    "z.backward()\n",
    "\n",
    "print(x)\n"
   ]
  },
  {
   "cell_type": "code",
   "execution_count": null,
   "id": "17d46d77",
   "metadata": {},
   "outputs": [],
   "source": []
  }
 ],
 "metadata": {
  "kernelspec": {
   "display_name": "backprop",
   "language": "python",
   "name": "python3"
  },
  "language_info": {
   "codemirror_mode": {
    "name": "ipython",
    "version": 3
   },
   "file_extension": ".py",
   "mimetype": "text/x-python",
   "name": "python",
   "nbconvert_exporter": "python",
   "pygments_lexer": "ipython3",
   "version": "3.10.18"
  }
 },
 "nbformat": 4,
 "nbformat_minor": 5
}
